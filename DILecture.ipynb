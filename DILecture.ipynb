{
 "cells": [
  {
   "cell_type": "markdown",
   "metadata": {},
   "source": [
    "# Mock Lecture: Hypothesis Testing / Bayes' Theorem"
   ]
  },
  {
   "cell_type": "markdown",
   "metadata": {},
   "source": [
    "## Motivating Example\n",
    "\n",
    "Consider the following scenario: \n",
    "\n",
    "Maia just accepted a new job offer, but she really hates commuting.  A lot.  She appreciates that her commute time will fluctuate from day to day based on weather, traffic, and other random factors, but she is absolute in her refusal to continue working at any job for which her average commute time is greater than 30 minutes.  \n",
    "\n",
    "In the given scenario, the main hypothesis Maia will wish to test is whether, after having gone to work for some number of days and observing her commute times on each day, her expected commute time is greater than 30 minutes"
   ]
  },
  {
   "cell_type": "markdown",
   "metadata": {},
   "source": [
    "## Necessary Components of a Hypothesis Test\n",
    "\n",
    "Every hypothesis test relies on three parts:  \n",
    "\n",
    "1. A model\n",
    "1. A null hypothesis \n",
    "1. An alternative hypothesis \n",
    "\n",
    "### Part 1: A Model\n",
    "\n",
    "Before we can even posit a hypothesis to test, we first need to specify a *model*.  At the most basic level, a model consists of a set of assumptions about how the data we will use to test our hypotheses were generated and, in particular, makes some specific statements about the form(s) of randomness that appear in these data.  A very simple model that we could posit in our current example is that Maia's commute time each day is an identically and independently distributed (i.i.d) Gaussian random variable \n",
    "\n",
    "$X \\overset{i.i.d.}{\\sim}N(\\mu,\\sigma^2)$ \n",
    "\n",
    "In the analysis that follows, it will be useful to write $X$ in mean-error form \n",
    "\n",
    "$X = \\mu + \\varepsilon$, \n",
    "\n",
    "where $ \\varepsilon \\overset{i.i.d.}{\\sim} N(0,\\sigma^2)$ \n",
    "\n"
   ]
  },
  {
   "cell_type": "markdown",
   "metadata": {},
   "source": [
    "### Part 2: A null hypothesis\n",
    "\n",
    "The second necessary component Maia needs to conduct her test is a *null hypothesis*.  A null hypothesis is a restriction of one or more of the parameters of the model.  \n",
    "\n",
    "Our current model, $X \\overset{i.i.d.}{\\sim}N(\\mu,\\sigma^2)$, has two parameters: $\\mu$, the expected commute time and $\\sigma^2$, the population variance of commute time.  \n",
    "\n",
    "For Maia's problem, the appropriate null hypothesis for her to use is \n",
    "\n",
    "$H_0: \\mu = 30$.  \n",
    "\n",
    "You might have two questions in your head at this point:\n",
    "\n",
    "1. Why did Maia choose $\\mu = 30$ as her null hypothesis rather than $\\mu=25$ or $\\mu=35$?\n",
    "1. Why does Maia's null hypothesis restrict $\\mu$ but not $\\sigma^2$?\n",
    "\n",
    "We'll return to these questions later.  "
   ]
  },
  {
   "cell_type": "markdown",
   "metadata": {},
   "source": [
    "### Part 3: An alternative hypothesis\n",
    "\n",
    "The final necessary component Maia needs is an *alternative hypothesis*.  The alternative hypothesis describes what Maia actually hopes to learn from conducting her test.  Since she's conducting this test to determine whether she should stay at her current workplace, the appropriate alternative hypothesis for her to test is \n",
    "\n",
    "$H_a$: $\\mu > 30$  "
   ]
  },
  {
   "cell_type": "markdown",
   "metadata": {},
   "source": [
    "## What is a hypothesis test?\n",
    "\n",
    "After commuting to work for some number $n$ days, Maia has accumulated a sample of commute times $\\{x_i\\}_{i=1}^{n}$ that she can use to conduct a *hypothesis test*.  \n",
    "\n",
    "One can think of a hypothesis test as an answer to the following hypothetical question:\n",
    "\n",
    "If the null hypothesis $H_0$ were true, what is the probability that, if I drew another sample equal in size to the one I have, it would look at least as odd (in a sense that will vary based on context) as the sample I have?  \n",
    "\n",
    "\n",
    "\n",
    "In Maia's scenario, we want to estimate the probability that, if Maia's model and null hypothesis are both correct, that her mean commuting time over the *next* $n$ days will be at least as large as it was over the first $n$ days.  \n",
    "\n",
    "* If this probability is very small, there is a high likelihood that either the null hypothesis or the model is wrong and Maia should quit (Maia rejects the null hypothesis).\n",
    "* If this probability is not very small, Maia cannot say with great certainty that her expected commute time is greater than 30 minutes (Maia fails to reject the null hypothesis).  \n",
    "\n"
   ]
  },
  {
   "cell_type": "markdown",
   "metadata": {},
   "source": [
    "##  Deriving an appropriate test (Part I) \n",
    "\n",
    "\n",
    "Her model determines the appropriate test she should use.  Since she's trying to learn about her true (population) mean commute time, $\\mu$, a natural starting point for deriving a test statistic is to look at the mean commute time in her sample: \n",
    "\n",
    "$\\bar{x} = \\frac{1}{n} \\sum_{i=1}^{n} x_i$\n",
    "\n",
    "Under the model, the distribution of $\\bar{x}$ can be derived as\n",
    "\n",
    "$\\bar{x} = \\frac{1}{n}\\sum_{i=1}^{n} x_i$\n",
    "\n",
    "$\\bar{x}= \\frac{1}{n}\\sum_{i=1}^{n} \\mu + \\varepsilon_i$ \n",
    "\n",
    "$\\bar{x} - \\mu  = \\frac{1}{n}\\sum_{i=1}^{n} \\varepsilon_i$ \n",
    "\n",
    "Since each $\\varepsilon_i \\overset{i.i.d.}{\\sim} N(0,\\sigma^2)$, the distribution of the entire summation term in the above expression a Gaussian random variable with distribution \n",
    "\n",
    "$\\sum_{i=1}^{n} \\varepsilon_i \\sim N(0, n \\sigma^2)$\n",
    "\n",
    "which implies that \n",
    "\n",
    "$ \\frac{\\sqrt{n}(\\bar{x} - \\mu)}{\\sigma} \\sim N(0,1)$ \n",
    "\n",
    "If Maia's null hypothesis made assumptions about both $\\mu$ and $\\sigma^2$, the above expression would allow us to compute the probability of observing a mean at least as large as her sample mean.  Otherwise, we need to keep working.\n"
   ]
  },
  {
   "cell_type": "markdown",
   "metadata": {},
   "source": [
    "##  Deriving an appropriate test (Part II) \n",
    "\n",
    "Since our null hypothesis doesn't specify the value of $sigma^2$ to use in our test, Maia needs to use her sample to estimate it and factor in the additional uncertainty that results from not knowing it into her testing procedure.  The following results facilitate this\n",
    "\n",
    "1. $s^2 = \\frac{1}{n-1} \\sum_{i=1}^n (x_i - \\bar{x})^2$ is an unbiased estimator of $\\sigma^2$  <a href=\"#proof1\">Proof</a>\n",
    "\n",
    "1. $\\frac{s^2}{(n-1)\\sigma^2}\\sim \\chi^2(n-1)$ <a href=\"#proof2\">Proof</a>\n",
    "    \n",
    "1. $\\frac{s^2}{\\sigma^2}$ and $\\bar{x} - \\mu$ are independent <a href=\"#proof2\">Proof</a>\n",
    "\n",
    "Based on these results, $\\frac{\\sqrt{n}(\\bar{x}-\\mu)}{s}$ is t-distributed with $n-1$ degrees of freedom.  "
   ]
  },
  {
   "cell_type": "markdown",
   "metadata": {},
   "source": [
    "## Choosing a critical value\n",
    "\n",
    "With a test statistic and a sample in hand, Maia can now compute the probability (under the null) of drawing a sample with size $n$ that has a mean at least as large as that of her sample.  The last thing she needs to decide is the *critical value* of the test statistic, which defines the threshold level of the test statistic at which the null hypothesis should be rejected.  We typically set our critical value such that the probability density on the extreme side of the test statistic distibution is equal to a particular level, which defines the *significance level* of the test.  \n",
    "\n",
    "This is illustrated in the following code, which graphs a t-distribution, a selected significance level, and its associated critical value.  "
   ]
  },
  {
   "cell_type": "code",
   "execution_count": 6,
   "metadata": {},
   "outputs": [
    {
     "name": "stdout",
     "output_type": "stream",
     "text": [
      "Critical value = 1.725\n"
     ]
    },
    {
     "data": {
      "text/plain": [
       "<matplotlib.collections.PolyCollection at 0x7f6266f43f98>"
      ]
     },
     "execution_count": 6,
     "metadata": {},
     "output_type": "execute_result"
    },
    {
     "data": {
      "image/png": "[encoded data removed]",
      "text/plain": [
       "<Figure size 432x288 with 1 Axes>"
      ]
     },
     "metadata": {},
     "output_type": "display_data"
    }
   ],
   "source": [
    "from scipy.stats import t \n",
    "import matplotlib.pyplot as plt \n",
    "import numpy as np \n",
    "\n",
    "df=20\n",
    "siglev = 0.05\n",
    "cv = t.ppf(1-siglev,df)\n",
    "tgrid = np.arange(t.ppf(0.001,df),t.ppf(0.999,df),0.01)\n",
    "\n",
    "fig, ax = plt.subplots(1,1)\n",
    "ax.plot(tgrid, t.pdf(tgrid, df),'r-', lw=2, alpha=0.6, label='t pdf')\n",
    "\n",
    "\n",
    "print(\"Critical value = %5.3f\" % cv)\n",
    "tgridcrit = tgrid[tgrid>cv]\n",
    "ax.fill_between(tgridcrit, 0, t.pdf(tgridcrit,df), facecolor='green', interpolate=True)\n"
   ]
  },
  {
   "cell_type": "markdown",
   "metadata": {},
   "source": [
    "### Factors to Consider in Determining Significance Level\n",
    "\n",
    "\n",
    "* The significance level determines how often Maia will accidentally reject a true null (Type 1 Error)\n",
    "* Setting the significance level (critical value) too low (high) risks failing to reject a false null hypothesis (Type 2 Error)  \n",
    "\n",
    "Let's consider two scenarios: \n",
    "\n",
    "1. Maia's true mean commute time is $\\mu=29$ with variance $\\sigma^2=32$ and she collects data on her commute $n=20$ days.  \n",
    "\n",
    "2. Maia's true mean commute time is $\\mu=31$ with variance $\\sigma^2=32$ and she collects data on her commute $n=20$ days.\n",
    "\n",
    "Let's simulate each of these scenarios a bunch of times and see how different decision rules work out\n"
   ]
  },
  {
   "cell_type": "code",
   "execution_count": 2,
   "metadata": {},
   "outputs": [
    {
     "name": "stdout",
     "output_type": "stream",
     "text": [
      "Test results \n",
      "\n",
      "mu=29.00, siglev=0.050 || Do not reject=4960, Reject=40 \n",
      "mu=29.00, siglev=0.025 || Do not reject=4980, Reject=20 \n",
      "mu=29.00, siglev=0.010 || Do not reject=4995, Reject=5 \n",
      "mu=31.00, siglev=0.050 || Do not reject=4035, Reject=965 \n",
      "mu=31.00, siglev=0.025 || Do not reject=4409, Reject=591 \n",
      "mu=31.00, siglev=0.010 || Do not reject=4710, Reject=290 \n",
      "\n",
      "**************************\n",
      "\n",
      "Precision vs. Recall \n",
      "\n",
      "siglev = 0.050 || Recall = 0.960, Precision = 0.193\n",
      "siglev = 0.025 || Recall = 0.967, Precision = 0.118\n",
      "siglev = 0.010 || Recall = 0.983, Precision = 0.058\n"
     ]
    }
   ],
   "source": [
    "from IPython.display import HTML, display\n",
    "import tabulate\n",
    "from scipy.stats import norm \n",
    "nsim = 5000 \n",
    "mu1 = 29\n",
    "mu2 = 31 \n",
    "mutest = 30\n",
    "s2 = 32 \n",
    "n=20\n",
    "df=n-1 \n",
    "\n",
    "# Let's define the t-test: stats.norm has an appropriate test we can use, but we'll do it manually here for the sake\n",
    "# of illustration \n",
    "def ttest(sample,siglev,mut):\n",
    "    xbar = np.mean(sample)\n",
    "    dfsamp = len(sample)-1\n",
    "    sest = np.sqrt(np.var(sample-xbar,ddof=1))\n",
    "    tstat = np.sqrt(len(sample))*(xbar - mut)/sest\n",
    "    tsig = 1-t.cdf(tstat,dfsamp)\n",
    "    rejectnull = (tsig<siglev) \n",
    "    return(rejectnull)\n",
    "    \n",
    "# Let's create our simulated data samples \n",
    "np.random.seed(17)\n",
    "samp1 = norm.rvs(loc=mu1,scale=np.sqrt(s2),size=(n,nsim))\n",
    "samp2 = norm.rvs(loc=mu2,scale=np.sqrt(s2),size=(n,nsim))\n",
    "\n",
    "# For each test, let's run a level at 5%, 2.5%, and 1% significance \n",
    "# In each case, we'll count how many times the test rejects the null hypothesis \n",
    "res1s5 = [ttest(samp1[...,x],siglev=0.05,mut=mutest) for x in range(nsim)]\n",
    "res1s25 = [ttest(samp1[...,x],siglev=0.025,mut=mutest) for x in range(nsim)]\n",
    "res1s1 = [ttest(samp1[...,x],siglev=0.01,mut=mutest) for x in range(nsim)]    \n",
    "\n",
    "res2s5 = [ttest(samp2[...,x],siglev=0.05,mut=mutest) for x in range(nsim)]\n",
    "res2s25 = [ttest(samp2[...,x],siglev=0.025,mut=mutest) for x in range(nsim)]\n",
    "res2s1 = [ttest(samp2[...,x],siglev=0.01,mut=mutest) for x in range(nsim)] \n",
    "\n",
    "\n",
    "def nreject(results):\n",
    "    return(len([x for x in results if x]))\n",
    "\n",
    "def nnoreject(results):\n",
    "    return(len([x for x in results if not x]))\n",
    "\n",
    "\n",
    "print(\"Test results \\n\")\n",
    "print(\"mu=%5.2f, siglev=%5.3f || Do not reject=%d, Reject=%d \" % (mu1,0.05,nnoreject(res1s5),nreject(res1s5)))\n",
    "print(\"mu=%5.2f, siglev=%5.3f || Do not reject=%d, Reject=%d \" % (mu1,0.025,nnoreject(res1s25),nreject(res1s25)))\n",
    "print(\"mu=%5.2f, siglev=%5.3f || Do not reject=%d, Reject=%d \" % (mu1,0.01,nnoreject(res1s1),nreject(res1s1)))\n",
    "\n",
    "print(\"mu=%5.2f, siglev=%5.3f || Do not reject=%d, Reject=%d \" % (mu2,0.05,nnoreject(res2s5),nreject(res2s5)))\n",
    "print(\"mu=%5.2f, siglev=%5.3f || Do not reject=%d, Reject=%d \" % (mu2,0.025,nnoreject(res2s25),nreject(res2s25)))\n",
    "print(\"mu=%5.2f, siglev=%5.3f || Do not reject=%d, Reject=%d \" % (mu2,0.01,nnoreject(res2s1),nreject(res2s1)))\n",
    "print(\"\\n**************************\\n\")\n",
    "    \n",
    "print(\"Precision vs. Recall \\n\")\n",
    "print(\"siglev = %5.3f || Recall = %5.3f, Precision = %5.3f\" % (0.05, \n",
    "                                                               nreject(res2s5)/(nreject(res2s5) + nreject(res1s5)),\n",
    "                                                               nreject(res2s5)/(nreject(res2s5) + nnoreject(res2s5))))\n",
    "\n",
    "print(\"siglev = %5.3f || Recall = %5.3f, Precision = %5.3f\" % (0.025, \n",
    "                                                               nreject(res2s25)/(nreject(res2s25) + nreject(res1s25)),\n",
    "                                                               nreject(res2s25)/(nreject(res2s25) + nnoreject(res2s25))))\n",
    "\n",
    "\n",
    "print(\"siglev = %5.3f || Recall = %5.3f, Precision = %5.3f\" % (0.01, \n",
    "                                                               nreject(res2s1)/(nreject(res2s1) + nreject(res1s1)),\n",
    "                                                               nreject(res2s1)/(nreject(res2s1) + nnoreject(res2s1))))"
   ]
  },
  {
   "cell_type": "markdown",
   "metadata": {},
   "source": [
    "## Precision and Recall\n",
    "\n",
    "Inspection of the above results reveals a trade-off that Maia faces in setting the significance level of her test.  Setting a higher significance level increases the likelihood that she rejects her null hypothesis both when she should and when she should not.  \n",
    "\n",
    "Two common measures of test performance are recall and precision.  Precision measures how often Maia's test rejects the null when it should.  Recall measures how often the test is correct when it does reject the null.   \n",
    "* Recall=$\\frac{\\text{Correctly Rejected Null}}{\\text{Correctly Rejected Null} + \\text{Incorrectly Rejected Null}}$\n",
    "* Precision=$\\frac{\\text{Correctly Rejected Null}}{\\text{Correctly Rejected Null} + \\text{Incorrectly Failed to Reject Null}}$ \n",
    "\n",
    "As the values above illustrate, higher levels of significance increase the precision of Maia's test (she's more likely to reject the null hypothesis when she should) but decrease its recall (she's more likely to reject the null by mistake). \n",
    "\n",
    "* Whether precision or recall is more important depends on the specific context and the priorities of the person designing the test\n",
    "* We can visualize the tradeoff between precision and recall by plotting them for various levels of significance\n"
   ]
  },
  {
   "cell_type": "markdown",
   "metadata": {},
   "source": [
    "## Assumptions and Extensions\n",
    "\n",
    "In order for the t-test procedure described above to be *exactly* correct, the difference between the estimator (the sample mean) and the parameter of interest must be normally distributed.  \n",
    "\n",
    "When this difference is non-normally distributed, the t-test is still asymptotically valid as long as the data generating process satisfies the necessary conditions for one of several central limit theorems.  \n",
    "\n",
    "* Meeting the necesssary conditions for a central limit theorem to apply underpins most likelihood-based tests (Wald, Lagrange Multiplier, Likelihood Ratio)\n",
    "\n",
    "The t-test applies to almost any case where the model admits a statistic that is equal to the sum of (1) a true parameter and (2) an error term.  \n",
    "\n",
    "* For example, under the standard assumptions that validate Ordinary Least Squares (OLS) regression, the OLS estimator is equal to $\\hat{\\beta}_{OLS} = \\beta + (X'X)^{-1}X'\\varepsilon$ \n",
    "\n",
    "The t-test can also be generalized to test null hypotheses covering more than one parameter of a model (F-test)\n",
    "\n",
    "\n",
    "Here's a more practical application: OLS "
   ]
  },
  {
   "cell_type": "code",
   "execution_count": 3,
   "metadata": {},
   "outputs": [
    {
     "name": "stdout",
     "output_type": "stream",
     "text": [
      "Boston House Prices dataset\n",
      "===========================\n",
      "\n",
      "Notes\n",
      "------\n",
      "Data Set Characteristics:  \n",
      "\n",
      "    :Number of Instances: 506 \n",
      "\n",
      "    :Number of Attributes: 13 numeric/categorical predictive\n",
      "    \n",
      "    :Median Value (attribute 14) is usually the target\n",
      "\n",
      "    :Attribute Information (in order):\n",
      "        - CRIM     per capita crime rate by town\n",
      "        - ZN       proportion of residential land zoned for lots over 25,000 sq.ft.\n",
      "        - INDUS    proportion of non-retail business acres per town\n",
      "        - CHAS     Charles River dummy variable (= 1 if tract bounds river; 0 otherwise)\n",
      "        - NOX      nitric oxides concentration (parts per 10 million)\n",
      "        - RM       average number of rooms per dwelling\n",
      "        - AGE      proportion of owner-occupied units built prior to 1940\n",
      "        - DIS      weighted distances to five Boston employment centres\n",
      "        - RAD      index of accessibility to radial highways\n",
      "        - TAX      full-value property-tax rate per $10,000\n",
      "        - PTRATIO  pupil-teacher ratio by town\n",
      "        - B        1000(Bk - 0.63)^2 where Bk is the proportion of blacks by town\n",
      "        - LSTAT    % lower status of the population\n",
      "        - MEDV     Median value of owner-occupied homes in $1000's\n",
      "\n",
      "    :Missing Attribute Values: None\n",
      "\n",
      "    :Creator: Harrison, D. and Rubinfeld, D.L.\n",
      "\n",
      "This is a copy of UCI ML housing dataset.\n",
      "http://archive.ics.uci.edu/ml/datasets/Housing\n",
      "\n",
      "\n",
      "This dataset was taken from the StatLib library which is maintained at Carnegie Mellon University.\n",
      "\n",
      "The Boston house-price data of Harrison, D. and Rubinfeld, D.L. 'Hedonic\n",
      "prices and the demand for clean air', J. Environ. Economics & Management,\n",
      "vol.5, 81-102, 1978.   Used in Belsley, Kuh & Welsch, 'Regression diagnostics\n",
      "...', Wiley, 1980.   N.B. Various transformations are used in the table on\n",
      "pages 244-261 of the latter.\n",
      "\n",
      "The Boston house-price data has been used in many machine learning papers that address regression\n",
      "problems.   \n",
      "     \n",
      "**References**\n",
      "\n",
      "   - Belsley, Kuh & Welsch, 'Regression diagnostics: Identifying Influential Data and Sources of Collinearity', Wiley, 1980. 244-261.\n",
      "   - Quinlan,R. (1993). Combining Instance-Based and Model-Based Learning. In Proceedings on the Tenth International Conference of Machine Learning, 236-243, University of Massachusetts, Amherst. Morgan Kaufmann.\n",
      "   - many more! (see http://archive.ics.uci.edu/ml/datasets/Housing)\n",
      "\n",
      "                            OLS Regression Results                            \n",
      "==============================================================================\n",
      "Dep. Variable:                   MEDV   R-squared:                       0.849\n",
      "Model:                            OLS   Adj. R-squared:                  0.848\n",
      "Method:                 Least Squares   F-statistic:                     938.4\n",
      "Date:                Fri, 09 Mar 2018   Prob (F-statistic):          1.42e-205\n",
      "Time:                        08:12:44   Log-Likelihood:                -1855.1\n",
      "No. Observations:                 506   AIC:                             3716.\n",
      "Df Residuals:                     503   BIC:                             3729.\n",
      "Df Model:                           3                                         \n",
      "Covariance Type:                  HC1                                         \n",
      "==============================================================================\n",
      "                 coef    std err          t      P>|t|      [0.025      0.975]\n",
      "------------------------------------------------------------------------------\n",
      "CRIM          -0.3826      0.074     -5.187      0.000      -0.528      -0.238\n",
      "NOX           62.5178      1.803     34.670      0.000      58.975      66.061\n",
      "INDUS         -1.0478      0.090    -11.646      0.000      -1.225      -0.871\n",
      "==============================================================================\n",
      "Omnibus:                       63.238   Durbin-Watson:                   0.622\n",
      "Prob(Omnibus):                  0.000   Jarque-Bera (JB):               96.073\n",
      "Skew:                           0.828   Prob(JB):                     1.37e-21\n",
      "Kurtosis:                       4.348   Cond. No.                         63.1\n",
      "==============================================================================\n",
      "\n",
      "Warnings:\n",
      "[1] Standard Errors are heteroscedasticity robust (HC1)\n"
     ]
    },
    {
     "name": "stderr",
     "output_type": "stream",
     "text": [
      "/usr/local/lib/python3.6/dist-packages/statsmodels/compat/pandas.py:56: FutureWarning: The pandas.core.datetools module is deprecated and will be removed in a future version. Please use the pandas.tseries module instead.\n",
      "  from pandas.core import datetools\n"
     ]
    }
   ],
   "source": [
    "# Let's load a \"real\" dataset and run some regressions \n",
    "from sklearn import datasets \n",
    "import pandas as pd \n",
    "import statsmodels.api as smod \n",
    "boston = datasets.load_boston()\n",
    "\n",
    "print(boston.DESCR)\n",
    "\n",
    "\n",
    "# Let's do a simple regression of crime, polution, and business density on median property values \n",
    "indvar = pd.DataFrame(boston.data, columns=boston.feature_names)\n",
    "depvar = pd.DataFrame(boston.target, columns=[\"MEDV\"])\n",
    "olsmod = smod.OLS(depvar['MEDV'],indvar[['CRIM','NOX','INDUS']]).fit().get_robustcov_results() \n",
    "\n",
    "print(olsmod.summary())\n"
   ]
  },
  {
   "cell_type": "markdown",
   "metadata": {},
   "source": [
    "# Bayesian Inference\n",
    "\n",
    "Two main paradigms for thinking about statistical inference\n",
    "\n",
    "* Frequentist approach: Learning about fixed parameter values based on a random data.\n",
    "* Bayesian approach: Learning about random (unknown) parameter values based on a fixed data\n",
    "\n",
    "The Bayesian approach posits a *prior* distribution of the parameters of the model and updates this distribution based on observed data to form a *posterior* that takes the information content of the data into account.  "
   ]
  },
  {
   "cell_type": "markdown",
   "metadata": {},
   "source": [
    "## Basic Review of Bayes' Theorem\n",
    "\n",
    "Let's begin with two facts from probability theory\n",
    "\n",
    "1. For any two events $A$ and $B$, $$P(A|B)P(B)=P(A\\cup B)$$\n",
    "\n",
    "1. For any two events $A$ and $B$, $$P(B) = P(B|A)P(A) + P(B|A')P(A')$$  \n",
    "\n",
    "Since $A$ and $B$ are arbitrarily positioned, together these two facts imply \n",
    "\n",
    "$$P(A|B) = \\frac{P(B|A)P(A)}{P(B)}=\\frac{P(B|A)P(A)}{P(B|A)P(A) + P(B|A')P(A')}$$ \n",
    "\n",
    "* Heuristically, this says that the probability that $A$ is true given that $B$ is true is equal to the probability that both are true divided by the probability that $B$ is true (regardless of whether A is true or not)"
   ]
  },
  {
   "cell_type": "markdown",
   "metadata": {},
   "source": [
    "## Operationalizing Bayes' Theorem\n",
    "\n",
    "Returning to the commute time problem, Maia can treat her mean commute time as a random variable about which she can use data to update her beliefs\n",
    "\n",
    "$$ f(\\mu|{\\bf x}) = \\frac{f({\\bf x} | \\mu) f(\\mu)}{\\int f({\\bf x} | \\mu) f(\\mu) d\\mu }$$\n",
    "\n",
    "Let's break apart the components of this expression:\n",
    "\n",
    "* $f(\\mu)$ is Maia's *prior* on the distribution of $\\mu$.  Before Maia begins working at her new job and begins actually collecting data on her commute, we posit that she has some initial beliefs on the probabilities that her actual mean commute time $\\mu$ is equal a given value.  These initial beliefs are typically an assumption or are based on another source of information\n",
    "\n",
    "* $f({\\bf x} | \\mu)$ is based on the model Maia uses to describe the data generating process for her sample.  Recalling that Maia's model specified that $X \\overset{i.i.d.}{\\sim}N(\\mu,\\sigma^2)$, given a fixed value of $\\sigma^2$, it follows that \n",
    "\n",
    "$$ f({\\bf x} | \\mu) = \\prod_{i=1}^n \\phi\\left(\\frac{x_i - \\mu}{\\sigma} \\right)$$\n",
    "\n",
    "where $\\phi$ is the standard normal probability density function.  \n",
    "\n"
   ]
  },
  {
   "cell_type": "markdown",
   "metadata": {},
   "source": [
    "### Conjugate priors\n",
    "\n",
    "Since our goal is ultimately utilize the posterior distribution $f(\\mu|{\\bf x})$ we develop for other purposes, we'll often find it useful or necessary to choose a prior that produces a posterior distribution that's easy to work with.  \n",
    "\n",
    "*Conjugate priors* are distributions that produce posterior distributions in the same functional family\n",
    "\n",
    "Examples:\n",
    "\n",
    "* Normal (known variance)\n",
    "* Normal / Inverse-Gamma - t-distribution\n",
    "* Bernoulli\n",
    "* Poisson - Negative Binomial "
   ]
  },
  {
   "cell_type": "markdown",
   "metadata": {},
   "source": [
    "#### Normal (known variance prior)\n",
    "\n",
    "Let's assume that Maia's prior is that $\\mu \\sim N(m_0,v_0^2)$.  Given the expression for $ f({\\bf x} | \\mu)$ derived from our model (above), one can show that \n",
    "\n",
    "$$ \\mu | {\\bf x} \\sim N\\left( \\frac{\\frac{\\sigma^2}{n}m_0 + v_0^2 \\bar{x}}{\\frac{\\sigma^2}{n}  + v_0^2},\\frac{\\frac{ \\sigma^2}{n} v_0^2}{\\frac{\\sigma^2}{n} +v_0^2} \\right)$$\n",
    "\n",
    "The posterior mean is just a weighted average of the prior mean and the sample mean (the test statistic!).  \n",
    "\n",
    "Each component is weighted based on its reliability - the more variable a component is, the less it factors into the posterior\n",
    "\n",
    "Let's return to the previous samples we generated.  Suppose Maia's initial prior is $\\mu \\sim N(30,50)$.  Let's also assume for simplicity that she knows that $\\sigma^2=32$ with certainty.  We'll look at what happens when she updates based on a sample drawn where $x_i \\sim N(31,32)$ "
   ]
  },
  {
   "cell_type": "code",
   "execution_count": 4,
   "metadata": {},
   "outputs": [
    {
     "name": "stdout",
     "output_type": "stream",
     "text": [
      "Prior mean = 30.000 || Prior variance = 50.000\n",
      "Data mean = 31.201 || Data mean variance = 1.600\n",
      "Posterior mean = 31.164 || Posterior variance = 1.550\n"
     ]
    },
    {
     "data": {
      "text/plain": [
       "<matplotlib.legend.Legend at 0x7f6266fbe240>"
      ]
     },
     "execution_count": 4,
     "metadata": {},
     "output_type": "execute_result"
    },
    {
     "data": {
      "image/png": "[encoded data removed]",
      "text/plain": [
       "<Figure size 432x288 with 1 Axes>"
      ]
     },
     "metadata": {},
     "output_type": "display_data"
    }
   ],
   "source": [
    "## The first thing we're going to do is look at how a prior and data sample are combined into a posterior distribution \n",
    "from scipy.stats import gaussian_kde \n",
    "# Let's set the prior/known parameters \n",
    "m0 = 30\n",
    "v02 = 50\n",
    "s2 = 32\n",
    "\n",
    "# Let's get data from one of our samples \n",
    "samp21 = samp2[:,0]\n",
    "xbar = np.mean(samp21)\n",
    "n = len(samp21)\n",
    "s2hat = s2/n \n",
    "\n",
    "# Let's get the density of the sample\n",
    "sdensity = gaussian_kde(samp21) \n",
    "sdensity.set_bandwidth(bw_method=sdensity.factor / 0.5)\n",
    "# Now let's form the posterior \n",
    "mpost = (s2hat * m0 + v02 *xbar)/(s2hat + v02)\n",
    "v12 = s2hat*v02/(s2hat + v02)\n",
    "\n",
    "print(\"Prior mean = %5.3f || Prior variance = %5.3f\" % (m0,v02))\n",
    "print(\"Data mean = %5.3f || Data mean variance = %5.3f\" % (xbar,s2hat))\n",
    "print(\"Posterior mean = %5.3f || Posterior variance = %5.3f\" % (mpost,v12))\n",
    "\n",
    "\n",
    "\n",
    "xgrid = np.arange(norm.ppf(0.01,loc=m0,scale=np.sqrt(v02)),norm.ppf(0.99,loc=m0,scale=np.sqrt(v02)),0.01)\n",
    "\n",
    "\n",
    "\n",
    "fig, ax = plt.subplots(1,1)\n",
    "ax.plot(xgrid, norm.pdf(xgrid,loc=m0,scale=np.sqrt(v02)),'r-', lw=2, alpha=0.6, label='prior')\n",
    "ax.plot(xgrid, sdensity(xgrid),'b-', lw=2, alpha=0.6, label='data')\n",
    "ax.plot(xgrid, norm.pdf(xgrid,loc=mpost,scale=np.sqrt(v12)),'g-', lw=2, alpha=0.6, label='posterior')\n",
    "\n",
    "handles, labels = ax.get_legend_handles_labels()\n",
    "ax.legend(handles,labels)\n"
   ]
  },
  {
   "cell_type": "markdown",
   "metadata": {},
   "source": [
    "### \"Bayesian\" Hypothesis Testing\n",
    "\n",
    "A straightforward decision rule that Maia can use to decide whether to look for a new job or not is to quit if the posterior mean is greater than 30.   \n",
    "\n",
    "Maia can check how often she expects her decision criterion to be correct/incorrect by sampling from the posterior distribution of the parameter\n",
    "\n"
   ]
  },
  {
   "cell_type": "code",
   "execution_count": 5,
   "metadata": {},
   "outputs": [
    {
     "name": "stdout",
     "output_type": "stream",
     "text": [
      "Maia's predicted probability that quitting is the right move = 0.825\n",
      "Maia's predicted probability that quitting is the right move under diffuse prior = 0.830\n"
     ]
    }
   ],
   "source": [
    "# Let's estimate Maia's expected probability of making the correct decision (quitting)\n",
    "ndraws = 100000\n",
    "postsamp = norm.rvs(loc=mpost,scale=np.sqrt(v12),size=(ndraws))\n",
    "ngt30 = len(postsamp[postsamp>=30])\n",
    "pctcorrect = ngt30/ndraws \n",
    "print(\"Maia's predicted probability that quitting is the right move = %5.3f\" % pctcorrect)\n",
    "\n",
    "# Let's do the same thing now with a diffuse prior \n",
    "v02diffuse = 10000\n",
    "mpost2 = (s2hat * m0 + v02diffuse *xbar)/(s2hat + v02diffuse)\n",
    "vpost2 = s2hat*v02diffuse/(s2hat + v02diffuse)\n",
    "postsamp2 = norm.rvs(loc=mpost2,scale=np.sqrt(vpost2),size=(ndraws))\n",
    "ngt30 = len(postsamp2[postsamp2>=30])\n",
    "pctcorrect = ngt30/ndraws \n",
    "print(\"Maia's predicted probability that quitting is the right move under diffuse prior = %5.3f\" % pctcorrect)\n"
   ]
  },
  {
   "cell_type": "markdown",
   "metadata": {},
   "source": [
    "### Working with Posterior Predictives\n",
    "\n",
    "* In her previous work with hypothesis testing, Maia was able to estimate the distribution of her (sample) mean commute time under the assumption that a fixed null hypothesis was correct.  \n",
    "\n",
    "* Bayesian inference allows her to conduct a similar exercise - estimating the distribution of her (sample) mean commute time under the assumption that model parameters follow a particular distribution\n",
    "\n",
    "* Under Maia's current model with prior, $\\mu \\sim N(m_0,v_0^2)$, the posterior predictive distribution of the mean of a sample of size $n$ is equal to \n",
    "\n",
    "$$ \\tilde{\\bar{x}} \\sim N\\left(\\frac{\\hat{\\sigma}^2 m_0 + v_0^2 \\bar{x}}{\\hat{\\sigma}^2  + v_0^2}, \\frac{\\hat{\\sigma}^2 v_0^2}{\\hat{\\sigma}^2 +v_0^2} + \\hat{\\sigma}^2 \\right)$$\n",
    "\n",
    "The Bayesian approach factors uncertainty in the null hypothesis.  If $v_0=0$, confidence intervals about sample statistics generated by posterior predictive sampling align with the confidence intervals, critical values, etc. generated from an analogous null hypothesis in a hypothesis test.  "
   ]
  },
  {
   "cell_type": "markdown",
   "metadata": {},
   "source": [
    "## Extensions\n",
    "\n",
    "* Posterior predictive distributions can be used to forecast or simulate additional data \n",
    "* Yesterday's posterior can be today's prior in order to smoothly incorporate new information into a model \n",
    "* Non-conjugate distributions can be utilized with Markov Chain Monte Carlo (MCMC) methods (pymc3 module) "
   ]
  },
  {
   "cell_type": "markdown",
   "metadata": {},
   "source": [
    "<a id=\"proof1\"></a> \n",
    "#### Proof 1\n",
    "\n",
    "Let $e_i = x_i - \\bar{x}$.  Under our model, we can substitute for $x_i$ and $\\bar{x}$, which yields \n",
    "\n",
    "$e_i = (\\mu + \\varepsilon_i) -(\\mu + \\frac{1}{n} \\sum_{j=1}^n \\varepsilon_j) = \\frac{n-1}{n} \\varepsilon_i + \\frac{1}{n} \\sum_{j\\neq i} \\varepsilon_j$\n",
    "\n",
    "Squaring this gives\n",
    "\n",
    "$e_i^2 = \\frac{1}{n^2}((n-1)\\varepsilon_i + \\sum_{j\\neq i} \\varepsilon_j)^2 = \\left(\\frac{n-1}{n} \\right)^2 \\varepsilon_i^2 + \\frac{1}{n^2} \\sum_{j\\neq i} \\varepsilon_j^2 + \\text{other terms involving interactions between $\\varepsilon_j\\varepsilon_k, j \\neq k$}$  \n",
    "\n",
    "Hence,\n",
    "\n",
    "\n",
    "$s^2 = \\frac{1}{n-1} \\sum_{i=1}^n e_i^2$\n",
    "\n",
    "$ = \\frac{1}{n-1} \\sum_{i=1}^n \\left(\\frac{(n-1)^2}{n^2} + \\frac{n-1}{n^2} \\varepsilon_i^2\\right)  + \\text{interaction terms}$ \n",
    "\n",
    "$= \\frac{1}{n-1} \\sum_{i=1}^n \\frac{n-1}{n^2}(n-1+1)\\varepsilon_i^2 + \\text{interaction terms}$\n",
    "\n",
    "$= \\frac{1}{n} \\sum_{i=1}^n \\varepsilon_i^2 + \\text{interaction terms}$    \n",
    "\n",
    "Under our model $\\varepsilon_i \\overset{i.i.d.}{\\sim}N(0,\\sigma^2)$, so the expected value of the expression above is exactly equal to $\\sigma^2$.  "
   ]
  },
  {
   "cell_type": "markdown",
   "metadata": {},
   "source": [
    "<a id=\"proof2\"></a>\n",
    "##### Proofs 2 and 3 \n",
    "Proofs 2 and 3 are standard in statistics textbooks"
   ]
  }
 ],
 "metadata": {
  "kernelspec": {
   "display_name": "Python 3",
   "language": "python",
   "name": "python3"
  },
  "language_info": {
   "codemirror_mode": {
    "name": "ipython",
    "version": 3
   },
   "file_extension": ".py",
   "mimetype": "text/x-python",
   "name": "python",
   "nbconvert_exporter": "python",
   "pygments_lexer": "ipython3",
   "version": "3.6.3"
  }
 },
 "nbformat": 4,
 "nbformat_minor": 2
}
